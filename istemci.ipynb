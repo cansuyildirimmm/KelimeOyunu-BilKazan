{
 "cells": [
  {
   "cell_type": "code",
   "execution_count": 1,
   "metadata": {},
   "outputs": [
    {
     "ename": "ConnectionRefusedError",
     "evalue": "[WinError 10061] Hedef makine etkin olarak reddettiğinden bağlantı kurulamadı",
     "output_type": "error",
     "traceback": [
      "\u001b[1;31m---------------------------------------------------------------------------\u001b[0m",
      "\u001b[1;31mConnectionRefusedError\u001b[0m                    Traceback (most recent call last)",
      "Cell \u001b[1;32mIn[1], line 46\u001b[0m\n\u001b[0;32m     43\u001b[0m     client_socket\u001b[38;5;241m.\u001b[39mclose()\n\u001b[0;32m     45\u001b[0m \u001b[38;5;66;03m# İstemciyi başlatma fonksiyonunu çağırma\u001b[39;00m\n\u001b[1;32m---> 46\u001b[0m \u001b[43mstart_client\u001b[49m\u001b[43m(\u001b[49m\u001b[43m)\u001b[49m\n",
      "Cell \u001b[1;32mIn[1], line 9\u001b[0m, in \u001b[0;36mstart_client\u001b[1;34m()\u001b[0m\n\u001b[0;32m      7\u001b[0m \u001b[38;5;66;03m# Sunucuya bağlanma\u001b[39;00m\n\u001b[0;32m      8\u001b[0m server_address \u001b[38;5;241m=\u001b[39m (\u001b[38;5;124m'\u001b[39m\u001b[38;5;124m127.0.0.1\u001b[39m\u001b[38;5;124m'\u001b[39m, \u001b[38;5;241m4337\u001b[39m)\n\u001b[1;32m----> 9\u001b[0m \u001b[43mclient_socket\u001b[49m\u001b[38;5;241;43m.\u001b[39;49m\u001b[43mconnect\u001b[49m\u001b[43m(\u001b[49m\u001b[43mserver_address\u001b[49m\u001b[43m)\u001b[49m\n\u001b[0;32m     11\u001b[0m \u001b[38;5;28mprint\u001b[39m(\u001b[38;5;124m\"\u001b[39m\u001b[38;5;124mSunucuya bağlanıldı.\u001b[39m\u001b[38;5;124m\"\u001b[39m)\n\u001b[0;32m     13\u001b[0m \u001b[38;5;66;03m# Sunucudan gelen başlangıç kelimesini alma\u001b[39;00m\n",
      "\u001b[1;31mConnectionRefusedError\u001b[0m: [WinError 10061] Hedef makine etkin olarak reddettiğinden bağlantı kurulamadı"
     ]
    }
   ],
   "source": [
    "import socket\n",
    "\n",
    "def start_client():\n",
    "    # İstemci için bir TCP/IP soketi oluşturma\n",
    "    client_socket = socket.socket(socket.AF_INET, socket.SOCK_STREAM)\n",
    "    \n",
    "    # Sunucuya bağlanma\n",
    "    server_address = ('127.0.0.1', 4337)\n",
    "    client_socket.connect(server_address)\n",
    "    \n",
    "    print(\"Sunucuya bağlanıldı.\")\n",
    "    \n",
    "    # Sunucudan gelen başlangıç kelimesini alma\n",
    "    masked_word = client_socket.recv(1024).decode()\n",
    "    print(f\"Başlangıç kelimesi: {masked_word}\")\n",
    "    \n",
    "    while True:\n",
    "        # Kullanıcıdan tahmin alma\n",
    "        while True:\n",
    "            guess = input(\"Lütfen bir kelime tahmin edin (4 harfli): \")\n",
    "            if len(guess) != 4:\n",
    "                print(\"Lütfen 4 karakterli bir tahminde bulunun\")\n",
    "            else:\n",
    "                break\n",
    "        \n",
    "        # Tahmini sunucuya gönderme\n",
    "        client_socket.sendall(guess.encode())\n",
    "        \n",
    "        # Sunucudan geri bildirim alma\n",
    "        response = client_socket.recv(1024).decode()\n",
    "        print(f\"Tahmin :{guess}\")\n",
    "        print(f\"Geri bildirim: {response}\")\n",
    "        \n",
    "        # Eğer sunucudan \"Tebrikler\" mesajı gelirse, oyunu sonlandır\n",
    "        #if response == \"Tebrikler!\":\n",
    "         #   print(\"Tebrikler! Doğru tahmin yaptınız!\")\n",
    "          #  break\n",
    "        \n",
    "        if \"Bitti\" in response:\n",
    "            break\n",
    "    \n",
    "    # Bağlantıyı kapatma\n",
    "    client_socket.close()\n",
    "\n",
    "# İstemciyi başlatma fonksiyonunu çağırma\n",
    "start_client()"
   ]
  }
 ],
 "metadata": {
  "kernelspec": {
   "display_name": "Python 3",
   "language": "python",
   "name": "python3"
  },
  "language_info": {
   "codemirror_mode": {
    "name": "ipython",
    "version": 3
   },
   "file_extension": ".py",
   "mimetype": "text/x-python",
   "name": "python",
   "nbconvert_exporter": "python",
   "pygments_lexer": "ipython3",
   "version": "3.9.13"
  }
 },
 "nbformat": 4,
 "nbformat_minor": 2
}
